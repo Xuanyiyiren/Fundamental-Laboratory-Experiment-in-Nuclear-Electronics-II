{
 "cells": [
  {
   "cell_type": "code",
   "execution_count": 2,
   "metadata": {},
   "outputs": [],
   "source": [
    "import pandas as pd\n",
    "import numpy as np\n",
    "import matplotlib.pyplot as plt\n",
    "plt.rcParams['font.sans-serif']=['Simhei']  #显示中文\n",
    "plt.rcParams['axes.unicode_minus']=False    #显示负号 "
   ]
  },
  {
   "cell_type": "code",
   "execution_count": 3,
   "metadata": {},
   "outputs": [],
   "source": [
    "df=pd.read_excel('Exp1.xlsx')\n",
    "N_1=df['放射计数'].values\n",
    "N_2=df['本底计数'].values"
   ]
  },
  {
   "cell_type": "code",
   "execution_count": 9,
   "metadata": {},
   "outputs": [
    {
     "name": "stdout",
     "output_type": "stream",
     "text": [
      "放射性计数的平均值为243.43，样本方差为263.03\n",
      "放射性计数的平均值为5.06，样本方差为5.26\n"
     ]
    }
   ],
   "source": [
    "print(f'放射性计数的平均值为{N_1.mean():.2f}，样本方差为{np.var(N_1,ddof=1):.2f}')\n",
    "print(f'放射性计数的平均值为{N_2.mean():.2f}，样本方差为{np.var(N_2,ddof=1):.2f}')"
   ]
  }
 ],
 "metadata": {
  "kernelspec": {
   "display_name": "base",
   "language": "python",
   "name": "python3"
  },
  "language_info": {
   "codemirror_mode": {
    "name": "ipython",
    "version": 3
   },
   "file_extension": ".py",
   "mimetype": "text/x-python",
   "name": "python",
   "nbconvert_exporter": "python",
   "pygments_lexer": "ipython3",
   "version": "3.9.18"
  }
 },
 "nbformat": 4,
 "nbformat_minor": 2
}
