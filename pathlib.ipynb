{
 "cells": [
  {
   "cell_type": "code",
   "execution_count": 1,
   "metadata": {},
   "outputs": [],
   "source": [
    "from pathlib import Path"
   ]
  },
  {
   "cell_type": "code",
   "execution_count": 2,
   "metadata": {},
   "outputs": [
    {
     "data": {
      "text/plain": [
       "[WindowsPath('.git'),\n",
       " WindowsPath('codes'),\n",
       " WindowsPath('Experiment-1and8'),\n",
       " WindowsPath('Experiment-2'),\n",
       " WindowsPath('Experiment-3'),\n",
       " WindowsPath('Experiment-4'),\n",
       " WindowsPath('Experiment-7')]"
      ]
     },
     "execution_count": 2,
     "metadata": {},
     "output_type": "execute_result"
    }
   ],
   "source": [
    "p = Path('.')\n",
    "[x for x in p.iterdir() if x.is_dir()]"
   ]
  },
  {
   "cell_type": "code",
   "execution_count": 10,
   "metadata": {},
   "outputs": [
    {
     "data": {
      "text/plain": [
       "[WindowsPath('pathlib.ipynb'),\n",
       " WindowsPath('codes/curvefit .ipynb'),\n",
       " WindowsPath('codes/Klein-Nishina formula.ipynb'),\n",
       " WindowsPath('codes/peak-analysis.ipynb'),\n",
       " WindowsPath('Experiment-1and8/exp1.ipynb'),\n",
       " WindowsPath('Experiment-1and8/exp8.ipynb'),\n",
       " WindowsPath('Experiment-1and8/pre-exp.ipynb'),\n",
       " WindowsPath('Experiment-1and8/figs/p-value.ipynb'),\n",
       " WindowsPath('Experiment-2/data_analysis.ipynb'),\n",
       " WindowsPath('Experiment-2/wavedata/read_oscilloscope.ipynb'),\n",
       " WindowsPath('Experiment-3/data_ana.ipynb'),\n",
       " WindowsPath('Experiment-3/interplo.ipynb'),\n",
       " WindowsPath('Experiment-3/Klein-Nishina formula.ipynb'),\n",
       " WindowsPath('Experiment-4/237Pudecay.ipynb'),\n",
       " WindowsPath('Experiment-4/data_ana.ipynb'),\n",
       " WindowsPath('Experiment-7/1.ipynb'),\n",
       " WindowsPath('Experiment-7/drawer.ipynb')]"
      ]
     },
     "execution_count": 10,
     "metadata": {},
     "output_type": "execute_result"
    }
   ],
   "source": [
    "list(p.glob('**/*.ipynb'))"
   ]
  },
  {
   "cell_type": "code",
   "execution_count": 12,
   "metadata": {},
   "outputs": [
    {
     "data": {
      "text/plain": [
       "[WindowsPath('experiment-2/15. 曲线拟合.pdf'),\n",
       " WindowsPath('experiment-2/7. 统计量的分布和测量误差理论 (3).pdf'),\n",
       " WindowsPath('experiment-2/Data.xlsx'),\n",
       " WindowsPath('experiment-2/data_analysis.ipynb'),\n",
       " WindowsPath('experiment-2/figs'),\n",
       " WindowsPath('experiment-2/gamma_射线的吸收.pdf'),\n",
       " WindowsPath('experiment-2/wavedata'),\n",
       " WindowsPath('experiment-2/仪器参数.xlsx'),\n",
       " WindowsPath('experiment-2/手工匠心.xlsx')]"
      ]
     },
     "execution_count": 12,
     "metadata": {},
     "output_type": "execute_result"
    }
   ],
   "source": [
    "list(p.glob('experiment-2/*'))"
   ]
  },
  {
   "cell_type": "code",
   "execution_count": 13,
   "metadata": {},
   "outputs": [
    {
     "data": {
      "text/plain": [
       "WindowsPath('D:/核相关基础实验II/Experiment-2')"
      ]
     },
     "execution_count": 13,
     "metadata": {},
     "output_type": "execute_result"
    }
   ],
   "source": [
    "q.resolve()"
   ]
  },
  {
   "cell_type": "code",
   "execution_count": 14,
   "metadata": {},
   "outputs": [
    {
     "data": {
      "text/plain": [
       "True"
      ]
     },
     "execution_count": 14,
     "metadata": {},
     "output_type": "execute_result"
    }
   ],
   "source": [
    "q.exists()"
   ]
  }
 ],
 "metadata": {
  "kernelspec": {
   "display_name": "base",
   "language": "python",
   "name": "python3"
  },
  "language_info": {
   "codemirror_mode": {
    "name": "ipython",
    "version": 3
   },
   "file_extension": ".py",
   "mimetype": "text/x-python",
   "name": "python",
   "nbconvert_exporter": "python",
   "pygments_lexer": "ipython3",
   "version": "3.9.19"
  }
 },
 "nbformat": 4,
 "nbformat_minor": 2
}
