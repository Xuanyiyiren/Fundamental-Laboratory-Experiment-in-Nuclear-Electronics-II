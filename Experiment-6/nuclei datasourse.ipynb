{
 "cells": [
  {
   "cell_type": "code",
   "execution_count": 8,
   "metadata": {},
   "outputs": [],
   "source": [
    "import xraydb\n",
    "import pandas as pd\n",
    "elements = ['Tb','Ba','Ag','Mo','Rb']"
   ]
  },
  {
   "cell_type": "code",
   "execution_count": 7,
   "metadata": {},
   "outputs": [
    {
     "data": {
      "text/plain": [
       "{'Ka3': XrayLine(energy=43288.0, intensity=9.80819e-05, initial_level='K', final_level='L1'),\n",
       " 'Ka2': XrayLine(energy=43744.0, intensity=0.286579, initial_level='K', final_level='L2'),\n",
       " 'Ka1': XrayLine(energy=44482.0, intensity=0.514122, initial_level='K', final_level='L3'),\n",
       " 'Kb3': XrayLine(energy=50228.0, intensity=0.0515893, initial_level='K', final_level='M2'),\n",
       " 'Kb1': XrayLine(energy=50385.0, intensity=0.099743, initial_level='K', final_level='M3'),\n",
       " 'Kb5': XrayLine(energy=50719.1, intensity=0.00166062, initial_level='K', final_level='M4,5'),\n",
       " 'Kb2': XrayLine(energy=51673.6, intensity=0.0457569, initial_level='K', final_level='N2,3'),\n",
       " 'Kb4': XrayLine(energy=51845.5, intensity=0.000450928, initial_level='K', final_level='N4,5'),\n",
       " 'Lb4': XrayLine(energy=6940.0, intensity=0.294412, initial_level='L1', final_level='M2'),\n",
       " 'Lb3': XrayLine(energy=7097.0, intensity=0.480439, initial_level='L1', final_level='M3'),\n",
       " 'Lg2': XrayLine(energy=8385.6, intensity=0.0930923, initial_level='L1', final_level='N2'),\n",
       " 'Lg3': XrayLine(energy=8423.9, intensity=0.132056, initial_level='L1', final_level='N3'),\n",
       " 'Ln': XrayLine(energy=6284.0, intensity=0.0192301, initial_level='L2', final_level='M1'),\n",
       " 'Lb1': XrayLine(energy=6975.1, intensity=0.837619, initial_level='L2', final_level='M4'),\n",
       " 'Lg1': XrayLine(energy=8101.5, intensity=0.143151, initial_level='L2', final_level='N4'),\n",
       " 'Ll': XrayLine(energy=5546.0, intensity=0.0308277, initial_level='L3', final_level='M1'),\n",
       " 'La2': XrayLine(energy=6237.1, intensity=0.0812242, initial_level='L3', final_level='M4'),\n",
       " 'La1': XrayLine(energy=6272.9, intensity=0.728857, initial_level='L3', final_level='M5'),\n",
       " 'Lb6': XrayLine(energy=7118.0, intensity=0.00738835, initial_level='L3', final_level='N1'),\n",
       " 'Lb2,15': XrayLine(energy=7363.5, intensity=0.151703, initial_level='L3', final_level='N4,5'),\n",
       " 'Mg': XrayLine(energy=1460.5, intensity=1.0, initial_level='M3', final_level='N5'),\n",
       " 'Mz': XrayLine(energy=954.5, intensity=0.00293255, initial_level='M4,5', final_level='N2,3'),\n",
       " 'Mb': XrayLine(energy=1269.2, intensity=0.997068, initial_level='M4', final_level='N6'),\n",
       " 'Ma': XrayLine(energy=1233.4, intensity=1.0, initial_level='M5', final_level='N6,7')}"
      ]
     },
     "execution_count": 7,
     "metadata": {},
     "output_type": "execute_result"
    }
   ],
   "source": [
    "xraydb.xray_lines('Tb')"
   ]
  },
  {
   "cell_type": "code",
   "execution_count": 6,
   "metadata": {},
   "outputs": [
    {
     "data": {
      "text/plain": [
       "[44.482, 32.194, 22.163, 17.48, 13.396]"
      ]
     },
     "execution_count": 6,
     "metadata": {},
     "output_type": "execute_result"
    }
   ],
   "source": [
    "xray = []\n",
    "for element in elements:\n",
    "    xray.append(xraydb.xray_lines(element)['Ka1'].energy/1000)\n",
    "xray"
   ]
  },
  {
   "cell_type": "code",
   "execution_count": 7,
   "metadata": {},
   "outputs": [
    {
     "data": {
      "text/html": [
       "<div>\n",
       "<style scoped>\n",
       "    .dataframe tbody tr th:only-of-type {\n",
       "        vertical-align: middle;\n",
       "    }\n",
       "\n",
       "    .dataframe tbody tr th {\n",
       "        vertical-align: top;\n",
       "    }\n",
       "\n",
       "    .dataframe thead th {\n",
       "        text-align: right;\n",
       "    }\n",
       "</style>\n",
       "<table border=\"1\" class=\"dataframe\">\n",
       "  <thead>\n",
       "    <tr style=\"text-align: right;\">\n",
       "      <th></th>\n",
       "      <th>element</th>\n",
       "      <th>Xray(most)</th>\n",
       "    </tr>\n",
       "  </thead>\n",
       "  <tbody>\n",
       "    <tr>\n",
       "      <th>0</th>\n",
       "      <td>Tb</td>\n",
       "      <td>44.482</td>\n",
       "    </tr>\n",
       "    <tr>\n",
       "      <th>1</th>\n",
       "      <td>Ba</td>\n",
       "      <td>32.194</td>\n",
       "    </tr>\n",
       "    <tr>\n",
       "      <th>2</th>\n",
       "      <td>Ag</td>\n",
       "      <td>22.163</td>\n",
       "    </tr>\n",
       "    <tr>\n",
       "      <th>3</th>\n",
       "      <td>Mo</td>\n",
       "      <td>17.480</td>\n",
       "    </tr>\n",
       "    <tr>\n",
       "      <th>4</th>\n",
       "      <td>Rb</td>\n",
       "      <td>13.396</td>\n",
       "    </tr>\n",
       "  </tbody>\n",
       "</table>\n",
       "</div>"
      ],
      "text/plain": [
       "  element  Xray(most)\n",
       "0      Tb      44.482\n",
       "1      Ba      32.194\n",
       "2      Ag      22.163\n",
       "3      Mo      17.480\n",
       "4      Rb      13.396"
      ]
     },
     "execution_count": 7,
     "metadata": {},
     "output_type": "execute_result"
    }
   ],
   "source": [
    "Xray_data = pd.DataFrame({'element':elements,\n",
    "                          'Xray(most)':xray})\n",
    "\n",
    "Xray_data"
   ]
  },
  {
   "cell_type": "code",
   "execution_count": 8,
   "metadata": {},
   "outputs": [],
   "source": [
    "Xray_data.to_csv('Xray_data.csv',index=None)"
   ]
  },
  {
   "cell_type": "markdown",
   "metadata": {},
   "source": [
    "# R"
   ]
  },
  {
   "cell_type": "code",
   "execution_count": 2,
   "metadata": {},
   "outputs": [
    {
     "name": "stdout",
     "output_type": "stream",
     "text": [
      "energy  z  symbol transition intensity\n",
      "  eV                                  \n",
      "------ --- ------ ---------- ---------\n",
      "5013.5  59     Pr        Lα2        11\n",
      "5033.7  59     Pr        Lα1       100\n",
      "5034.0  54     Xe        Lγ1         8\n",
      "5042.1  57     La        Lβ1        60\n",
      "5156.5  56     Ba     Lβ2,15        20\n",
      "5177.2  63     Eu         Ll         4\n"
     ]
    }
   ],
   "source": [
    "import astropy.units as u\n",
    "from roentgen.lines import get_lines\n",
    "lines = get_lines(5 * u.keV, 5.2 * u.keV)\n",
    "print(lines)"
   ]
  },
  {
   "cell_type": "code",
   "execution_count": 6,
   "metadata": {},
   "outputs": [
    {
     "data": {
      "text/latex": [
       "$44481.6 \\; \\mathrm{eV}$"
      ],
      "text/plain": [
       "<Quantity 44481.6 eV>"
      ]
     },
     "execution_count": 6,
     "metadata": {},
     "output_type": "execute_result"
    }
   ],
   "source": [
    "import astropy.units as u\n",
    "from roentgen.lines import get_lines\n",
    "emit_lines = get_lines(0 * u.keV, 100 * u.keV, element='Tb')\n",
    "emit_lines['energy'][emit_lines['transition'] == 'Kα1'][0]"
   ]
  },
  {
   "cell_type": "code",
   "execution_count": 12,
   "metadata": {},
   "outputs": [
    {
     "data": {
      "text/plain": [
       "[<Quantity 44481.6 eV>,\n",
       " <Quantity 32193.6 eV>,\n",
       " <Quantity 22162.9 eV>,\n",
       " <Quantity 17479.3 eV>,\n",
       " <Quantity 13395.3 eV>]"
      ]
     },
     "execution_count": 12,
     "metadata": {},
     "output_type": "execute_result"
    }
   ],
   "source": [
    "Ka1enes = []\n",
    "for ele in elements:\n",
    "    emit_lines = get_lines(0 * u.keV, 100 * u.keV, element=ele)\n",
    "    Ka1 = emit_lines['energy'][emit_lines['transition'] == 'Kα1'][0]\n",
    "    Ka1enes.append(Ka1)\n",
    "Ka1enes"
   ]
  }
 ],
 "metadata": {
  "kernelspec": {
   "display_name": "base",
   "language": "python",
   "name": "python3"
  },
  "language_info": {
   "codemirror_mode": {
    "name": "ipython",
    "version": 3
   },
   "file_extension": ".py",
   "mimetype": "text/x-python",
   "name": "python",
   "nbconvert_exporter": "python",
   "pygments_lexer": "ipython3",
   "version": "3.12.2"
  }
 },
 "nbformat": 4,
 "nbformat_minor": 4
}
